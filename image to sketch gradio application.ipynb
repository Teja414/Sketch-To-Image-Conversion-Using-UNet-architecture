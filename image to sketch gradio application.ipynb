{
 "cells": [
  {
   "cell_type": "code",
   "execution_count": 1,
   "id": "d84c769a",
   "metadata": {},
   "outputs": [],
   "source": [
    "import cv2\n",
    "import matplotlib.pyplot as plt\n",
    "import os\n",
    "import matplotlib\n",
    "from PIL import Image\n",
    "import gradio as gr"
   ]
  },
  {
   "cell_type": "code",
   "execution_count": 2,
   "id": "0e07a92b",
   "metadata": {},
   "outputs": [],
   "source": [
    "def dodgeV2(image, mask):\n",
    "    return cv2.divide(image, 255-mask, scale=256)"
   ]
  },
  {
   "cell_type": "code",
   "execution_count": 3,
   "id": "6e77a16c",
   "metadata": {},
   "outputs": [],
   "source": [
    "def burnV2(image, mask):\n",
    "    return 255 - cv2.divide(255-image, 255-mask, scale=256)"
   ]
  },
  {
   "cell_type": "code",
   "execution_count": null,
   "id": "adbd735c",
   "metadata": {},
   "outputs": [],
   "source": []
  },
  {
   "cell_type": "code",
   "execution_count": 4,
   "id": "eadeedaf",
   "metadata": {},
   "outputs": [],
   "source": [
    "def image_to_sketch(img):\n",
    "    img = cv2.resize(img,(178,218))\n",
    "    img_rgb = img\n",
    "    img_gray = cv2.cvtColor(img_rgb, cv2.COLOR_BGR2GRAY)\n",
    "    img_gray_inv = 255 - img_gray\n",
    "    img_blur = cv2.GaussianBlur(img_gray_inv, ksize=(21, 21),sigmaX=0, sigmaY=0)\n",
    "    img_blend = dodgeV2(img_gray, img_blur)\n",
    "    temp = cv2.cvtColor(img_blend,cv2.COLOR_GRAY2BGR)\n",
    "    return temp\n",
    "    #matplotlib.image.imsave('mypic_s.jpg', img_blend,cmap='gray')"
   ]
  },
  {
   "cell_type": "code",
   "execution_count": 5,
   "id": "66d7e516",
   "metadata": {},
   "outputs": [
    {
     "name": "stdout",
     "output_type": "stream",
     "text": [
      "Running on local URL:  http://127.0.0.1:7861\n",
      "\n",
      "To create a public link, set `share=True` in `launch()`.\n"
     ]
    },
    {
     "data": {
      "text/html": [
       "<div><iframe src=\"http://127.0.0.1:7861/\" width=\"100%\" height=\"500\" allow=\"autoplay; camera; microphone; clipboard-read; clipboard-write;\" frameborder=\"0\" allowfullscreen></iframe></div>"
      ],
      "text/plain": [
       "<IPython.core.display.HTML object>"
      ]
     },
     "metadata": {},
     "output_type": "display_data"
    },
    {
     "data": {
      "text/plain": []
     },
     "execution_count": 5,
     "metadata": {},
     "output_type": "execute_result"
    }
   ],
   "source": [
    "gr.Interface(fn=image_to_sketch,inputs=\"image\",outputs=\"image\",title=\"Image To Sketch Converter\",description=\"Upload of any size image to get desired sketch of it\",css=\".output {height: 10px;width:10px }\").launch()"
   ]
  }
 ],
 "metadata": {
  "kernelspec": {
   "display_name": "Python 3 (ipykernel)",
   "language": "python",
   "name": "python3"
  },
  "language_info": {
   "codemirror_mode": {
    "name": "ipython",
    "version": 3
   },
   "file_extension": ".py",
   "mimetype": "text/x-python",
   "name": "python",
   "nbconvert_exporter": "python",
   "pygments_lexer": "ipython3",
   "version": "3.10.2"
  }
 },
 "nbformat": 4,
 "nbformat_minor": 5
}
